{
 "cells": [
  {
   "cell_type": "markdown",
   "metadata": {},
   "source": [
    "# Clase Integradores Simples 2\n",
    "\n",
    "## Gabriel Reyes    Fecha: 21/09/2018\n",
    "\n",
    "Muchos eventos en el mundo y el universo en general tienen una constante entre ellos, todos están en cambio constante. Al tratar de modelar la mayoría de estos fenómenos nos damos cuenta de que adoptan la forma de una o más Ecuaciones Diferenciales.\n",
    "\n",
    "### ¿Qué es una ecuación diferencial?\n",
    "\n",
    "Es una ecuación que involucra una variable dependiente y sus derivadas con respecto a una o más variables independientes.\n",
    "No solo tienen aplicación en las ciencias físicas si no también en las ciencias aplicadas.\n",
    "Muchos procesos naturales tienen conectadoas entre si sus variables, y a su vez su ritmo de cambio está entrelazado entre sí por medio de los principios científicos básicos que lo rigen.\n",
    "\n",
    "$$\n",
    "F=ma\n",
    "$$\n",
    "\n",
    "Puede no parecer una Ecuación diferencial, pero siponiendo que la masa m está en caída libre bajo la fuerxa de gravedad, si consideramos $u$ como la posición del objeto desde una alltura determinada, la velocidad $v=du/dt$. Podemos decir que $g=\\frac{d^2u}{dt^2}$ es nuestra aceleración, por lo que.\n",
    "\n",
    "$$\n",
    "F=m\\frac{d^2u}{dt^2}\n",
    "$$\n",
    "\n",
    "Para las derivadas parciales usamos el simbolo $\\partial$ para expresar que por ejemplo derivar $z$ con respecto a $x$ escribimos $\\frac{\\partial{z}}{\\partial{x}}$\n",
    "\n",
    "Así separamos las ecuaciones diferenciales entre ordirarias y parciales, las parciales suelen ser más complicadas que las ordinarias (EDOs).\n",
    "\n",
    "#### Orden de las Ecuaciones diferenciales\n",
    "El orden de una ecuación diferencial es igual al orden de la mayor derivada presente, así que la ecuación diferencial de la Segunda ley de Newton es de segundo orden ya que nos encontramos la segunda derivada de la posición.\n",
    "\n",
    "#### Ecuaciones diferenciales separables\n",
    "Una ecuación separable es una ecuación diferencial de primer orden en la que la expresión $dx/dy$ se puede factorizar como una funcón de $x$ multiplicada por una función de $y$, en otras palabras:\n",
    "\n",
    "$$\n",
    "\\frac{dy}{dx}=f(x)g(y)\n",
    "$$\n",
    "\n",
    "Para resolver este tipo de ecuaciónes podemos reescribirlas en la forma diferencial:\n",
    "\n",
    "$$\n",
    "\\frac{dy}{g(y)}=f(x)dx\n",
    "$$\n",
    "\n",
    "y luego podemos resolver la ecuación integrando:\n",
    "\n",
    "$$\n",
    "\\int{\\frac{dy}{g(y)}}=\\int{f(x)dx+c}\n",
    "$$\n",
    "\n",
    "Pueden ser las ecuaciónes diferenciales mas faciles de resolver ya que se reducen a una integral, aunque esta puede seguir siendo complicada.\n",
    "\n",
    "#### Ecuaciones diferenciales lineales\n",
    "Su ecuación diferencial de primer orden adopta la forma:\n",
    "$$\n",
    "\\frac{dy}{dx}+P(x)y=Q(x)\n",
    "$$\n",
    "donde, $P$ y $Q$ son funciones continuas de $x$ en un determinado intervalo.\n",
    "\n",
    "### Condición incicial\n",
    "Al utilizar ecuaciones diferenciales, generalmente no estamos interesados en encontrar una familia de soluciones (la solución general), si no que en muchos problemas físicos debemos encontrar una solución particular que satisface una condición de la forma $y(t_0)=y_0$. Esto se conoce como la condición inicial y la solución de la ecuación diferencial que satisface la condición inicial se conoce como el problema de valoir inicial.\n",
    "\n",
    "#### Series de Taylor\n",
    "Las series de taylor son un caso especial de Serie de pontencias cuyos términos adoptan la forma $(x-a)^n$. Las series de Taylor nos van a permitir aproximar funciones continuas que no pueden resolverse en forma analítica y se van a calcular a partir de las derivadas de estas funciones. Su definición matemática es la sigiuiente:\n",
    "\n",
    "$$\n",
    "f(x)=\\sum_{n=0}^\\infty\\frac{f^n a}{n!}(x-a)^n\n",
    "$$\n",
    "\n",
    "Solucion de ejercicio para $e^{-x^2}$ y $a=0$ hasta $n=3$.\n",
    "\n",
    "$$\n",
    "f(x)=1+0-x^2+0\n",
    "$$\n",
    "$$\n",
    "f(x)=1-x^2\n",
    "$$\n",
    "\n",
    "### Resolviendo Ecuaciones Diferenciales con Python\n",
    "En algunos casos para resolver tenemos que recurrir a métodos numéricos. Es aquí, donde el poder de las computadoras y en especial de los paquetes científicos de Python coo NumPy, Matplotlib, SymPy y SciPy, se vuelven sumamente útiles para resolver ecuaciones diferenciales.\n",
    "\n",
    "#### Soluciones analíticas con Python\n",
    "Sympy nos proporciona un solucionador genérico de ecuaciones diferenciales ordinarias, sympy.dsolve , el cual es capaz de encontrar soluciones analíticas a muchas EDOs sencillas simbólicamente, como veremos a continuación, debemos tener en cuenta que la mayoría de las EDOs no se pueden resolver analíticamente. Por ejemplo, retomando el ejemplo que resolvimos analíticamente más arriva, veamos si llegamos al mismo resultado utilizando sympy en la ecuación diferencial ordinaria:\n",
    "$$\n",
    "\\frac{dy}{dx}=-3x^2y+6x^2\n",
    "$$"
   ]
  },
  {
   "cell_type": "code",
   "execution_count": 7,
   "metadata": {},
   "outputs": [
    {
     "data": {
      "text/latex": [
       "$$y{\\left (x \\right )} = C_{1} e^{- x^{3}} + 2$$"
      ],
      "text/plain": [
       "             3    \n",
       "           -x     \n",
       "y(x) = C₁⋅ℯ    + 2"
      ]
     },
     "execution_count": 7,
     "metadata": {},
     "output_type": "execute_result"
    }
   ],
   "source": [
    "#importamos los modulos necesarios\n",
    "\n",
    "import numpy as np\n",
    "import sympy\n",
    "from scipy import integrate\n",
    "\n",
    "#imprimir con notacion matematica.\n",
    "sympy.init_printing(use_latex='mathjax')\n",
    "\n",
    "#Resolviendo la ecuacion diferencial\n",
    "#definimos incognitas\n",
    "x=sympy.Symbol('x')\n",
    "y=sympy.Function('y')\n",
    "\n",
    "#Expresamos la ecuacion\n",
    "f = 6*x**2 - 3*x**2*(y(x))\n",
    "sympy.Eq(y(x).diff(x), f)\n",
    "\n",
    "#Ahora solo tenemos que aplicar la funcion dsolve para solucionar la ecuacion\n",
    "sympy.dsolve(y(x).diff(x)-f)"
   ]
  },
  {
   "cell_type": "markdown",
   "metadata": {},
   "source": [
    "Ahora resolvamos el siguiente problema de valores inciales:\n",
    "$$\n",
    "\\begin{equation}\n",
    "\\begin{cases}\n",
    "\\dot{y}(x)=\\frac{1}{2}(y^2-1) \\\\\n",
    "y(0)=2\n",
    "\\end{cases}\n",
    "\\end{equation}\n",
    "$$\n"
   ]
  },
  {
   "cell_type": "code",
   "execution_count": 10,
   "metadata": {},
   "outputs": [
    {
     "data": {
      "text/latex": [
       "$$y{\\left (x \\right )} = \\frac{1}{\\tanh{\\left (C_{1} - \\frac{x}{2} \\right )}}$$"
      ],
      "text/plain": [
       "            1      \n",
       "y(x) = ────────────\n",
       "           ⎛     x⎞\n",
       "       tanh⎜C₁ - ─⎟\n",
       "           ⎝     2⎠"
      ]
     },
     "execution_count": 10,
     "metadata": {},
     "output_type": "execute_result"
    }
   ],
   "source": [
    "import sympy\n",
    "sympy.init_printing(use_latex='mathjax')\n",
    "x=sympy.Symbol('x')\n",
    "y=sympy.Function('y')\n",
    "\n",
    "f=(y(x)**2-1)/2\n",
    "sympy.Eq(y(x).diff(x), f)\n",
    "\n",
    "sympy.dsolve(y(x).diff(x)-f)"
   ]
  },
  {
   "cell_type": "code",
   "execution_count": null,
   "metadata": {
    "collapsed": true
   },
   "outputs": [],
   "source": []
  }
 ],
 "metadata": {
  "kernelspec": {
   "display_name": "Python 3",
   "language": "python",
   "name": "python3"
  },
  "language_info": {
   "codemirror_mode": {
    "name": "ipython",
    "version": 3
   },
   "file_extension": ".py",
   "mimetype": "text/x-python",
   "name": "python",
   "nbconvert_exporter": "python",
   "pygments_lexer": "ipython3",
   "version": "3.6.3"
  }
 },
 "nbformat": 4,
 "nbformat_minor": 2
}
