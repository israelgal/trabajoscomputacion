{
 "cells": [
  {
   "cell_type": "markdown",
   "metadata": {},
   "source": [
    "## Resolver la ecuaion diferencial ordinaria:\n",
    "\n",
    "$$\n",
    "\\frac{dx}{dy}-tx=3t\n",
    "$$"
   ]
  },
  {
   "cell_type": "code",
   "execution_count": 25,
   "metadata": {},
   "outputs": [
    {
     "data": {
      "text/latex": [
       "$$x{\\left (t \\right )} = C_{1} e^{\\frac{t^{2}}{2}} - 3$$"
      ],
      "text/plain": [
       "            2    \n",
       "           t     \n",
       "           ──    \n",
       "           2     \n",
       "x(t) = C₁⋅ℯ   - 3"
      ]
     },
     "execution_count": 25,
     "metadata": {},
     "output_type": "execute_result"
    }
   ],
   "source": [
    "import sympy\n",
    "sympy.init_printing(use_latex='mathjax')\n",
    "t=sympy.Symbol('t')\n",
    "x=sympy.Function('x')\n",
    "\n",
    "f=3*t+t*(x(t))\n",
    "Sol=sympy.dsolve(x(t).diff(t)-f)\n",
    "Sol"
   ]
  },
  {
   "cell_type": "code",
   "execution_count": 7,
   "metadata": {},
   "outputs": [
    {
     "data": {
      "image/png": "[encoded data removed]",
      "text/latex": [
       "$$- \\frac{25 \\cos{\\left (25 \\right )}}{8 \\Gamma{\\left(\\frac{9}{4} \\right)}} \\Gamma{\\left(\\frac{5}{4} \\right)} + \\frac{5 \\sqrt{2} \\sqrt{\\pi} C\\left(\\frac{5 \\sqrt{2}}{\\sqrt{\\pi}}\\right)}{16 \\Gamma{\\left(\\frac{9}{4} \\right)}} \\Gamma{\\left(\\frac{5}{4} \\right)}$$"
      ],
      "text/plain": [
       "                                      ⎛5⋅√2⎞       \n",
       "                      5⋅√2⋅√π⋅fresnelc⎜────⎟⋅Γ(5/4)\n",
       "  25⋅cos(25)⋅Γ(5/4)                   ⎝ √π ⎠       \n",
       "- ───────────────── + ─────────────────────────────\n",
       "       8⋅Γ(9/4)                 16⋅Γ(9/4)          "
      ]
     },
     "execution_count": 7,
     "metadata": {},
     "output_type": "execute_result"
    }
   ],
   "source": [
    "import sympy as sp\n",
    "from sympy import*\n",
    "sp.init_printing()\n",
    "\n",
    "x = Symbol('x')\n",
    "f = x**2 * sp.sin(x**2)\n",
    "g = sp.integrate(f,(x,0,5))\n",
    "g"
   ]
  },
  {
   "cell_type": "markdown",
   "metadata": {},
   "source": [
    "## Resolver la ecuacion ordinaria \n",
    "\n",
    "$$\n",
    "\\frac{dy}{dx} = y +x -x^2 +1\n",
    "$$"
   ]
  },
  {
   "cell_type": "markdown",
   "metadata": {},
   "source": [
    "## Metodo de la serie de Taylor\n",
    "\n",
    "Dada la ecuacion dierencial de primer orden con la condicion de inicio:\n",
    "\n",
    "$$\n",
    "y'(x) =f(x,y), y(x_0) =y_0\n",
    "$$\n",
    "\n",
    "El desarrollo de la Serire de Taylor se usa para obtener puntos de una xolucion a una sitancia elegida h, a partir de de la condicion inicial conocida, y para estimar el error de truncamiento.\n",
    "\n",
    "\n",
    "Vamos a resolver la ecuaicon \n",
    "\n",
    "$$\n",
    "y'-y-x+x^2-1=0\n",
    "$$\n",
    "\n"
   ]
  },
  {
   "cell_type": "code",
   "execution_count": 16,
   "metadata": {},
   "outputs": [
    {
     "data": {
      "image/png": "[encoded data removed]",
      "text/plain": [
       "<matplotlib.figure.Figure at 0x7fcaa6901ba8>"
      ]
     },
     "metadata": {},
     "output_type": "display_data"
    }
   ],
   "source": [
    "import matplotlib.pyplot as plt\n",
    "import numpy as np\n",
    "\n",
    "t2 = np.arange(0.0, 0.5, 0.01)\n",
    "\n",
    "def f(x):\n",
    "    return np.exp(x) +x + x**2\n",
    "\n",
    "plt.plot(t2,f(t2) , 'r--', 0.1 , 1.2152, 'bo', 0.2 , 1.4614, 'bo')\n",
    "\n",
    "plt.show()"
   ]
  },
  {
   "cell_type": "code",
   "execution_count": 29,
   "metadata": {},
   "outputs": [
    {
     "name": "stdout",
     "output_type": "stream",
     "text": [
      "[[ 0.1     1.215 ]\n",
      " [ 0.2     1.461 ]\n",
      " [ 0.3     1.7392]\n",
      " [ 0.4     2.0509]\n",
      " [ 0.5     2.3974]]\n"
     ]
    },
    {
     "data": {
      "image/png": "[encoded data removed]",
      "text/plain": [
       "<matplotlib.figure.Figure at 0x7fca9ea6c320>"
      ]
     },
     "metadata": {},
     "output_type": "display_data"
    }
   ],
   "source": [
    "import sympy\n",
    "import numpy as np\n",
    "import pylab as pl\n",
    "pl.set_printoptions(precision=4) #Formato de resultados a 4 decimales\n",
    "\n",
    "def tay3(f,df,x,y,h,m):\n",
    "    u=np.zeros([m,2])\n",
    "    for i in range(m):\n",
    "        y=y+h*f(x,y)+h**2/2*df(x,y)\n",
    "        x=x+h\n",
    "        u[i,0]=x\n",
    "        u[i,1]=y\n",
    "    return u\n",
    "\n",
    "def f(x,y):\n",
    "    return y-x**2+x+1\n",
    "\n",
    "def df(x,y):\n",
    "    return y-x**2-x+2\n",
    "\n",
    "u=tay3(f,df,0,1,0.1,5)\n",
    "print(u)\n",
    "\n",
    "x=u[:,0] #Primera columna de u\n",
    "y=u[:,1] #Segunda columna de u\n",
    "# : significa todas las filas\n",
    "pl.plot(x,y,'o')\n",
    "pl.grid(True)\n",
    "pl.show()"
   ]
  },
  {
   "cell_type": "code",
   "execution_count": 9,
   "metadata": {},
   "outputs": [
    {
     "ename": "NameError",
     "evalue": "name 'taylor3' is not defined",
     "output_type": "error",
     "traceback": [
      "\u001b[0;31m---------------------------------------------------------------------------\u001b[0m",
      "\u001b[0;31mNameError\u001b[0m                                 Traceback (most recent call last)",
      "\u001b[0;32m<ipython-input-9-43550019f457>\u001b[0m in \u001b[0;36m<module>\u001b[0;34m()\u001b[0m\n\u001b[1;32m      8\u001b[0m     \u001b[0;32mreturn\u001b[0m \u001b[0my\u001b[0m\u001b[0;34m-\u001b[0m\u001b[0mx\u001b[0m\u001b[0;34m**\u001b[0m\u001b[0;36m2\u001b[0m\u001b[0;34m-\u001b[0m\u001b[0mx\u001b[0m\u001b[0;34m+\u001b[0m\u001b[0;36m2\u001b[0m\u001b[0;34m\u001b[0m\u001b[0m\n\u001b[1;32m      9\u001b[0m \u001b[0;31m##########################\u001b[0m\u001b[0;34m\u001b[0m\u001b[0;34m\u001b[0m\u001b[0m\n\u001b[0;32m---> 10\u001b[0;31m \u001b[0mu\u001b[0m\u001b[0;34m=\u001b[0m\u001b[0mtaylor3\u001b[0m\u001b[0;34m(\u001b[0m\u001b[0mf\u001b[0m\u001b[0;34m,\u001b[0m\u001b[0mdf\u001b[0m\u001b[0;34m,\u001b[0m\u001b[0;36m0\u001b[0m\u001b[0;34m,\u001b[0m\u001b[0;36m1\u001b[0m\u001b[0;34m,\u001b[0m\u001b[0;36m0.1\u001b[0m\u001b[0;34m,\u001b[0m\u001b[0;36m5\u001b[0m\u001b[0;34m)\u001b[0m\u001b[0;34m\u001b[0m\u001b[0m\n\u001b[0m\u001b[1;32m     11\u001b[0m \u001b[0mprint\u001b[0m\u001b[0;34m(\u001b[0m\u001b[0mu\u001b[0m\u001b[0;34m)\u001b[0m\u001b[0;34m\u001b[0m\u001b[0m\n\u001b[1;32m     12\u001b[0m \u001b[0;34m\u001b[0m\u001b[0m\n",
      "\u001b[0;31mNameError\u001b[0m: name 'taylor3' is not defined"
     ]
    }
   ],
   "source": [
    "import numpy as np \n",
    "import pylab as pl \n",
    "np.set_printoption(precision=4)\n",
    "\n",
    "\n",
    "\n",
    "\n",
    "\n",
    "\n",
    "def f(x,y):\n",
    "    return y-x**2+x+1\n",
    "def df(x,y):\n",
    "    return y-x**2-x+2\n",
    "##########################\n",
    "u=taylor3(f,df,0,1,0.1,5)\n",
    "\n",
    "\n",
    "\n",
    "\n"
   ]
  },
  {
   "cell_type": "markdown",
   "metadata": {},
   "source": [
    "## Solucion numerica con el metodo odeint de la libreria Scipy de python "
   ]
  },
  {
   "cell_type": "code",
   "execution_count": 11,
   "metadata": {},
   "outputs": [
    {
     "name": "stdout",
     "output_type": "stream",
     "text": [
      "\n",
      "x = [ 0.   0.1  0.2  0.3  0.4  0.5]\n",
      "\n",
      "y = [[ 1.        ]\n",
      " [ 1.21517091]\n",
      " [ 1.46140275]\n",
      " [ 1.73985882]\n",
      " [ 2.05182469]\n",
      " [ 2.39872127]]\n"
     ]
    }
   ],
   "source": [
    "from numpy import*\n",
    "from scipy.integrate import odeint\n",
    "\n",
    "def f(y,x):\n",
    "    return y-x**2 +x +1\n",
    "\n",
    "x=arange(0, 0.6, 0.1)\n",
    "y=odeint(f,1,x)\n",
    "\n",
    "print('\\nx =',x)\n",
    "print('\\ny =',y)"
   ]
  },
  {
   "cell_type": "code",
   "execution_count": null,
   "metadata": {
    "collapsed": true
   },
   "outputs": [],
   "source": [
    "\n",
    "\n",
    "\n",
    "def tay3(f,df,x,y,h,m):\n",
    "    u=np.zeros([m,2])\n",
    "    for i in range(m):\n",
    "        y=y+h*f(x,y)+h**2/2*df(x,y)\n",
    "        x=x+h\n",
    "        u[i,0]=x\n",
    "        u[i,1]=y\n",
    "    return u"
   ]
  },
  {
   "cell_type": "code",
   "execution_count": 20,
   "metadata": {},
   "outputs": [
    {
     "name": "stdout",
     "output_type": "stream",
     "text": [
      "[[ 0.1     1.215 ]\n",
      " [ 0.2     1.461 ]\n",
      " [ 0.3     1.7392]\n",
      " [ 0.4     2.0509]\n",
      " [ 0.5     2.3974]]\n"
     ]
    },
    {
     "data": {
      "image/png": "[encoded data removed]",
      "text/plain": [
       "<matplotlib.figure.Figure at 0x7fca9ea4e940>"
      ]
     },
     "metadata": {},
     "output_type": "display_data"
    }
   ],
   "source": [
    "import sympy\n",
    "import numpy as np\n",
    "import pylab as pl\n",
    "pl.set_printoptions(precision=4) #Formato de resultados a 4 decimales\n",
    "\n",
    "def tay3(f,df,x,y,h,m):\n",
    "    u=np.zeros([m,2])\n",
    "    for i in range(m):\n",
    "        y=y+h*f(x,y)+h**2/2*df(x,y)\n",
    "        x=x+h\n",
    "        u[i,0]=x\n",
    "        u[i,1]=y\n",
    "    return u\n",
    "\n",
    "def f(x,y):\n",
    "    return y-x**2+x+1\n",
    "\n",
    "def df(x,y):\n",
    "    return y-x**2-x+2\n",
    "\n",
    "u=tay3(f,df,0,1,0.1,5)\n",
    "print(u)\n",
    "\n",
    "x=u[:,0] #Primera columna de u\n",
    "y=u[:,1] #Segunda columna de u\n",
    "# : significa todas las filas\n",
    "pl.plot(x,y,'o')\n",
    "pl.grid(True)\n",
    "pl.show()"
   ]
  },
  {
   "cell_type": "code",
   "execution_count": null,
   "metadata": {
    "collapsed": true
   },
   "outputs": [],
   "source": []
  }
 ],
 "metadata": {
  "kernelspec": {
   "display_name": "Python 3",
   "language": "python",
   "name": "python3"
  },
  "language_info": {
   "codemirror_mode": {
    "name": "ipython",
    "version": 3
   },
   "file_extension": ".py",
   "mimetype": "text/x-python",
   "name": "python",
   "nbconvert_exporter": "python",
   "pygments_lexer": "ipython3",
   "version": "3.6.3"
  }
 },
 "nbformat": 4,
 "nbformat_minor": 2
}
